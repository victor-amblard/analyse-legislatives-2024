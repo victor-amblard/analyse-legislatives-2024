{
 "cells": [
  {
   "cell_type": "markdown",
   "metadata": {},
   "source": [
    "## Modélisation : Projections de sièges du second tour"
   ]
  },
  {
   "cell_type": "markdown",
   "metadata": {},
   "source": [
    "Le modèle proposé est très simple mais permet simplement d'illustrer le processus d'estimation du nombre de sièges en estimant les paramètres d'une matrice de report"
   ]
  },
  {
   "cell_type": "code",
   "execution_count": 1,
   "metadata": {},
   "outputs": [],
   "source": [
    "import pandas as pd\n",
    "import numpy as np\n",
    "from scipy.stats import dirichlet\n",
    "from pathlib import Path\n",
    "import geopandas as gpd\n",
    "import altair as alt"
   ]
  },
  {
   "cell_type": "markdown",
   "metadata": {},
   "source": [
    "## Chargement des données"
   ]
  },
  {
   "cell_type": "code",
   "execution_count": 2,
   "metadata": {},
   "outputs": [],
   "source": [
    "DATA_DIR = Path().resolve().joinpath(\"../data/\")\n",
    "data = pd.read_csv(DATA_DIR.joinpath(\"legislatives2024/computed/data.csv\"))"
   ]
  },
  {
   "cell_type": "code",
   "execution_count": 3,
   "metadata": {},
   "outputs": [],
   "source": [
    "contours_circos = gpd.read_file(\n",
    "    DATA_DIR.joinpath(\"insee/circonscriptions_legislatives_030522.shp\")\n",
    ")\n",
    "contours_circos[\"is_overseas\"] = contours_circos[\"dep\"].str.len() > 2\n",
    "contours_circos = contours_circos.rename(columns={\"id_circo\": \"CodCirElec\"})"
   ]
  },
  {
   "cell_type": "code",
   "execution_count": 4,
   "metadata": {},
   "outputs": [
    {
     "data": {
      "text/html": [
       "<div>\n",
       "<style scoped>\n",
       "    .dataframe tbody tr th:only-of-type {\n",
       "        vertical-align: middle;\n",
       "    }\n",
       "\n",
       "    .dataframe tbody tr th {\n",
       "        vertical-align: top;\n",
       "    }\n",
       "\n",
       "    .dataframe thead th {\n",
       "        text-align: right;\n",
       "    }\n",
       "</style>\n",
       "<table border=\"1\" class=\"dataframe\">\n",
       "  <thead>\n",
       "    <tr style=\"text-align: right;\">\n",
       "      <th></th>\n",
       "      <th>Unnamed: 0</th>\n",
       "      <th>NomPsn</th>\n",
       "      <th>PrenomPsn</th>\n",
       "      <th>Departement</th>\n",
       "      <th>CodCirElec</th>\n",
       "      <th>LibCirElec</th>\n",
       "      <th>NbSap</th>\n",
       "      <th>NbSiePourvus</th>\n",
       "      <th>Inscrits</th>\n",
       "      <th>Abstentions</th>\n",
       "      <th>...</th>\n",
       "      <th>NumPanneauCand</th>\n",
       "      <th>CivilitePsn</th>\n",
       "      <th>CodNuaCand</th>\n",
       "      <th>LibNuaCand</th>\n",
       "      <th>NbVoix</th>\n",
       "      <th>RapportExprimes</th>\n",
       "      <th>RapportInscrits</th>\n",
       "      <th>Elu</th>\n",
       "      <th>GroupPol</th>\n",
       "      <th>valid_round_two</th>\n",
       "    </tr>\n",
       "  </thead>\n",
       "  <tbody>\n",
       "    <tr>\n",
       "      <th>0</th>\n",
       "      <td>0</td>\n",
       "      <td>LAHY</td>\n",
       "      <td>Éric</td>\n",
       "      <td>01</td>\n",
       "      <td>0101</td>\n",
       "      <td>1ère circonscription</td>\n",
       "      <td>1</td>\n",
       "      <td>0</td>\n",
       "      <td>86843</td>\n",
       "      <td>25013</td>\n",
       "      <td>...</td>\n",
       "      <td>1</td>\n",
       "      <td>M.</td>\n",
       "      <td>EXG</td>\n",
       "      <td>Extrême gauche</td>\n",
       "      <td>419</td>\n",
       "      <td>0.69</td>\n",
       "      <td>0.48</td>\n",
       "      <td>NON</td>\n",
       "      <td>NFP+</td>\n",
       "      <td>False</td>\n",
       "    </tr>\n",
       "    <tr>\n",
       "      <th>1</th>\n",
       "      <td>1</td>\n",
       "      <td>MAÎTRE</td>\n",
       "      <td>Christophe</td>\n",
       "      <td>01</td>\n",
       "      <td>0101</td>\n",
       "      <td>1ère circonscription</td>\n",
       "      <td>1</td>\n",
       "      <td>0</td>\n",
       "      <td>86843</td>\n",
       "      <td>25013</td>\n",
       "      <td>...</td>\n",
       "      <td>2</td>\n",
       "      <td>M.</td>\n",
       "      <td>RN</td>\n",
       "      <td>Rassemblement National</td>\n",
       "      <td>23819</td>\n",
       "      <td>39.37</td>\n",
       "      <td>27.43</td>\n",
       "      <td>QUALIF T2</td>\n",
       "      <td>RN+</td>\n",
       "      <td>True</td>\n",
       "    </tr>\n",
       "    <tr>\n",
       "      <th>2</th>\n",
       "      <td>2</td>\n",
       "      <td>BRETON</td>\n",
       "      <td>Xavier</td>\n",
       "      <td>01</td>\n",
       "      <td>0101</td>\n",
       "      <td>1ère circonscription</td>\n",
       "      <td>1</td>\n",
       "      <td>0</td>\n",
       "      <td>86843</td>\n",
       "      <td>25013</td>\n",
       "      <td>...</td>\n",
       "      <td>3</td>\n",
       "      <td>M.</td>\n",
       "      <td>LR</td>\n",
       "      <td>Les Républicains</td>\n",
       "      <td>14495</td>\n",
       "      <td>23.96</td>\n",
       "      <td>16.69</td>\n",
       "      <td>QUALIF T2</td>\n",
       "      <td>LR+</td>\n",
       "      <td>True</td>\n",
       "    </tr>\n",
       "    <tr>\n",
       "      <th>3</th>\n",
       "      <td>3</td>\n",
       "      <td>GUERAUD</td>\n",
       "      <td>Sébastien</td>\n",
       "      <td>01</td>\n",
       "      <td>0101</td>\n",
       "      <td>1ère circonscription</td>\n",
       "      <td>1</td>\n",
       "      <td>0</td>\n",
       "      <td>86843</td>\n",
       "      <td>25013</td>\n",
       "      <td>...</td>\n",
       "      <td>4</td>\n",
       "      <td>M.</td>\n",
       "      <td>UG</td>\n",
       "      <td>Union de la gauche</td>\n",
       "      <td>14188</td>\n",
       "      <td>23.45</td>\n",
       "      <td>16.34</td>\n",
       "      <td>QUALIF T2</td>\n",
       "      <td>NFP+</td>\n",
       "      <td>False</td>\n",
       "    </tr>\n",
       "    <tr>\n",
       "      <th>4</th>\n",
       "      <td>4</td>\n",
       "      <td>VINCENT</td>\n",
       "      <td>Cyril</td>\n",
       "      <td>01</td>\n",
       "      <td>0101</td>\n",
       "      <td>1ère circonscription</td>\n",
       "      <td>1</td>\n",
       "      <td>0</td>\n",
       "      <td>86843</td>\n",
       "      <td>25013</td>\n",
       "      <td>...</td>\n",
       "      <td>5</td>\n",
       "      <td>M.</td>\n",
       "      <td>DSV</td>\n",
       "      <td>Droite souverainiste</td>\n",
       "      <td>197</td>\n",
       "      <td>0.33</td>\n",
       "      <td>0.23</td>\n",
       "      <td>NON</td>\n",
       "      <td>RN+</td>\n",
       "      <td>False</td>\n",
       "    </tr>\n",
       "  </tbody>\n",
       "</table>\n",
       "<p>5 rows × 32 columns</p>\n",
       "</div>"
      ],
      "text/plain": [
       "   Unnamed: 0   NomPsn   PrenomPsn Departement CodCirElec  \\\n",
       "0           0     LAHY        Éric          01       0101   \n",
       "1           1   MAÎTRE  Christophe          01       0101   \n",
       "2           2   BRETON      Xavier          01       0101   \n",
       "3           3  GUERAUD   Sébastien          01       0101   \n",
       "4           4  VINCENT       Cyril          01       0101   \n",
       "\n",
       "             LibCirElec  NbSap  NbSiePourvus  Inscrits  Abstentions  ...  \\\n",
       "0  1ère circonscription      1             0     86843        25013  ...   \n",
       "1  1ère circonscription      1             0     86843        25013  ...   \n",
       "2  1ère circonscription      1             0     86843        25013  ...   \n",
       "3  1ère circonscription      1             0     86843        25013  ...   \n",
       "4  1ère circonscription      1             0     86843        25013  ...   \n",
       "\n",
       "   NumPanneauCand  CivilitePsn  CodNuaCand              LibNuaCand  NbVoix  \\\n",
       "0               1           M.         EXG          Extrême gauche     419   \n",
       "1               2           M.          RN  Rassemblement National   23819   \n",
       "2               3           M.          LR        Les Républicains   14495   \n",
       "3               4           M.          UG      Union de la gauche   14188   \n",
       "4               5           M.         DSV    Droite souverainiste     197   \n",
       "\n",
       "   RapportExprimes  RapportInscrits        Elu  GroupPol  valid_round_two  \n",
       "0             0.69             0.48        NON      NFP+            False  \n",
       "1            39.37            27.43  QUALIF T2       RN+             True  \n",
       "2            23.96            16.69  QUALIF T2       LR+             True  \n",
       "3            23.45            16.34  QUALIF T2      NFP+            False  \n",
       "4             0.33             0.23        NON       RN+            False  \n",
       "\n",
       "[5 rows x 32 columns]"
      ]
     },
     "execution_count": 4,
     "metadata": {},
     "output_type": "execute_result"
    }
   ],
   "source": [
    "data.head()"
   ]
  },
  {
   "cell_type": "code",
   "execution_count": 5,
   "metadata": {},
   "outputs": [
    {
     "data": {
      "text/html": [
       "<div>\n",
       "<style scoped>\n",
       "    .dataframe tbody tr th:only-of-type {\n",
       "        vertical-align: middle;\n",
       "    }\n",
       "\n",
       "    .dataframe tbody tr th {\n",
       "        vertical-align: top;\n",
       "    }\n",
       "\n",
       "    .dataframe thead th {\n",
       "        text-align: right;\n",
       "    }\n",
       "</style>\n",
       "<table border=\"1\" class=\"dataframe\">\n",
       "  <thead>\n",
       "    <tr style=\"text-align: right;\">\n",
       "      <th></th>\n",
       "      <th>Sièges</th>\n",
       "    </tr>\n",
       "    <tr>\n",
       "      <th>Nuance politique</th>\n",
       "      <th></th>\n",
       "    </tr>\n",
       "  </thead>\n",
       "  <tbody>\n",
       "    <tr>\n",
       "      <th>RN+</th>\n",
       "      <td>39.0</td>\n",
       "    </tr>\n",
       "    <tr>\n",
       "      <th>NFP+</th>\n",
       "      <td>32.0</td>\n",
       "    </tr>\n",
       "    <tr>\n",
       "      <th>LR+</th>\n",
       "      <td>3.0</td>\n",
       "    </tr>\n",
       "    <tr>\n",
       "      <th>ENS+</th>\n",
       "      <td>2.0</td>\n",
       "    </tr>\n",
       "    <tr>\n",
       "      <th>DIV</th>\n",
       "      <td>0.0</td>\n",
       "    </tr>\n",
       "  </tbody>\n",
       "</table>\n",
       "</div>"
      ],
      "text/plain": [
       "                  Sièges\n",
       "Nuance politique        \n",
       "RN+                 39.0\n",
       "NFP+                32.0\n",
       "LR+                  3.0\n",
       "ENS+                 2.0\n",
       "DIV                  0.0"
      ]
     },
     "execution_count": 5,
     "metadata": {},
     "output_type": "execute_result"
    }
   ],
   "source": [
    "first_round_seats = (\n",
    "    data[data[\"Elu\"] == \"OUI\"][\"GroupPol\"]\n",
    "    .value_counts()\n",
    "    .reset_index()\n",
    "    .rename(columns={\"count\": \"Sièges\", \"GroupPol\": \"Nuance politique\"})\n",
    "    .set_index(\"Nuance politique\")\n",
    ")\n",
    "first_round_seats.loc[\"DIV\", \"Sièges\"] = 0\n",
    "first_round_seats"
   ]
  },
  {
   "cell_type": "code",
   "execution_count": 6,
   "metadata": {},
   "outputs": [],
   "source": [
    "circos_out = data[data[\"Elu\"] == \"OUI\"][\"CodCirElec\"].unique()"
   ]
  },
  {
   "cell_type": "code",
   "execution_count": 7,
   "metadata": {},
   "outputs": [
    {
     "name": "stdout",
     "output_type": "stream",
     "text": [
      "76 circonscriptions déjà pourvues\n"
     ]
    }
   ],
   "source": [
    "print(f\"{len(circos_out)} circonscriptions déjà pourvues\")"
   ]
  },
  {
   "cell_type": "code",
   "execution_count": 8,
   "metadata": {},
   "outputs": [
    {
     "name": "stderr",
     "output_type": "stream",
     "text": [
      "/tmp/ipykernel_346074/473034050.py:4: FutureWarning: The provided callable <built-in function sum> is currently using SeriesGroupBy.sum. In a future version of pandas, the provided callable will be used directly. To keep current behavior pass the string \"sum\" instead.\n",
      "  ].transform(sum)\n"
     ]
    }
   ],
   "source": [
    "# Regroupement des candidats \"Divers\"\n",
    "data[\"NbVoix\"] = data.groupby([\"CodCirElec\", \"GroupPol\", \"valid_round_two\"])[\n",
    "    \"NbVoix\"\n",
    "].transform(sum)\n",
    "data = data.drop_duplicates([\"CodCirElec\", \"GroupPol\", \"valid_round_two\"])"
   ]
  },
  {
   "cell_type": "markdown",
   "metadata": {},
   "source": [
    "#### Visualisation des réservoirs de voix"
   ]
  },
  {
   "cell_type": "markdown",
   "metadata": {},
   "source": [
    "Combien y a-t-il d'électeurs ayant voté pour des candidats ayant perdu (qui vont donc se reporter ou s'abstenir)."
   ]
  },
  {
   "cell_type": "code",
   "execution_count": 9,
   "metadata": {},
   "outputs": [],
   "source": [
    "group_to_color = {\n",
    "    \"RN+\": \"#0b5394\",\n",
    "    \"DIV\": \"#8e7cc3\",\n",
    "    \"LR+\": \"#0086ff\",\n",
    "    \"NFP+\": \"#e06666\",\n",
    "    \"ENS+\": \"#f1c232\",\n",
    "}"
   ]
  },
  {
   "cell_type": "code",
   "execution_count": 10,
   "metadata": {},
   "outputs": [
    {
     "data": {
      "text/html": [
       "\n",
       "<style>\n",
       "  #altair-viz-8b6c67f3d7c846dca1fe69b4e0f4c4cf.vega-embed {\n",
       "    width: 100%;\n",
       "    display: flex;\n",
       "  }\n",
       "\n",
       "  #altair-viz-8b6c67f3d7c846dca1fe69b4e0f4c4cf.vega-embed details,\n",
       "  #altair-viz-8b6c67f3d7c846dca1fe69b4e0f4c4cf.vega-embed details summary {\n",
       "    position: relative;\n",
       "  }\n",
       "</style>\n",
       "<div id=\"altair-viz-8b6c67f3d7c846dca1fe69b4e0f4c4cf\"></div>\n",
       "<script type=\"text/javascript\">\n",
       "  var VEGA_DEBUG = (typeof VEGA_DEBUG == \"undefined\") ? {} : VEGA_DEBUG;\n",
       "  (function(spec, embedOpt){\n",
       "    let outputDiv = document.currentScript.previousElementSibling;\n",
       "    if (outputDiv.id !== \"altair-viz-8b6c67f3d7c846dca1fe69b4e0f4c4cf\") {\n",
       "      outputDiv = document.getElementById(\"altair-viz-8b6c67f3d7c846dca1fe69b4e0f4c4cf\");\n",
       "    }\n",
       "    const paths = {\n",
       "      \"vega\": \"https://cdn.jsdelivr.net/npm/vega@5?noext\",\n",
       "      \"vega-lib\": \"https://cdn.jsdelivr.net/npm/vega-lib?noext\",\n",
       "      \"vega-lite\": \"https://cdn.jsdelivr.net/npm/vega-lite@5.17.0?noext\",\n",
       "      \"vega-embed\": \"https://cdn.jsdelivr.net/npm/vega-embed@6?noext\",\n",
       "    };\n",
       "\n",
       "    function maybeLoadScript(lib, version) {\n",
       "      var key = `${lib.replace(\"-\", \"\")}_version`;\n",
       "      return (VEGA_DEBUG[key] == version) ?\n",
       "        Promise.resolve(paths[lib]) :\n",
       "        new Promise(function(resolve, reject) {\n",
       "          var s = document.createElement('script');\n",
       "          document.getElementsByTagName(\"head\")[0].appendChild(s);\n",
       "          s.async = true;\n",
       "          s.onload = () => {\n",
       "            VEGA_DEBUG[key] = version;\n",
       "            return resolve(paths[lib]);\n",
       "          };\n",
       "          s.onerror = () => reject(`Error loading script: ${paths[lib]}`);\n",
       "          s.src = paths[lib];\n",
       "        });\n",
       "    }\n",
       "\n",
       "    function showError(err) {\n",
       "      outputDiv.innerHTML = `<div class=\"error\" style=\"color:red;\">${err}</div>`;\n",
       "      throw err;\n",
       "    }\n",
       "\n",
       "    function displayChart(vegaEmbed) {\n",
       "      vegaEmbed(outputDiv, spec, embedOpt)\n",
       "        .catch(err => showError(`Javascript Error: ${err.message}<br>This usually means there's a typo in your chart specification. See the javascript console for the full traceback.`));\n",
       "    }\n",
       "\n",
       "    if(typeof define === \"function\" && define.amd) {\n",
       "      requirejs.config({paths});\n",
       "      require([\"vega-embed\"], displayChart, err => showError(`Error loading script: ${err.message}`));\n",
       "    } else {\n",
       "      maybeLoadScript(\"vega\", \"5\")\n",
       "        .then(() => maybeLoadScript(\"vega-lite\", \"5.17.0\"))\n",
       "        .then(() => maybeLoadScript(\"vega-embed\", \"6\"))\n",
       "        .catch(showError)\n",
       "        .then(() => displayChart(vegaEmbed));\n",
       "    }\n",
       "  })({\"config\": {\"view\": {\"continuousWidth\": 300, \"continuousHeight\": 300}}, \"data\": {\"name\": \"data-795856c29a8ad14961f1511573b36e3e\"}, \"mark\": {\"type\": \"arc\"}, \"encoding\": {\"color\": {\"field\": \"GroupPol\", \"scale\": {\"domain\": [\"RN+\", \"DIV\", \"LR+\", \"NFP+\", \"ENS+\"], \"range\": [\"#0b5394\", \"#8e7cc3\", \"#0086ff\", \"#e06666\", \"#f1c232\"]}, \"type\": \"nominal\"}, \"theta\": {\"field\": \"NbVoix\", \"type\": \"quantitative\"}}, \"title\": \"R\\u00e9servoirs de voix par \\\"ensemble politique\\\"\", \"$schema\": \"https://vega.github.io/schema/vega-lite/v5.17.0.json\", \"datasets\": {\"data-795856c29a8ad14961f1511573b36e3e\": [{\"GroupPol\": \"DIV\", \"NbVoix\": 245553}, {\"GroupPol\": \"ENS+\", \"NbVoix\": 2758249}, {\"GroupPol\": \"LR+\", \"NbVoix\": 1666640}, {\"GroupPol\": \"NFP+\", \"NbVoix\": 4514779}, {\"GroupPol\": \"RN+\", \"NbVoix\": 2080493}]}}, {\"mode\": \"vega-lite\"});\n",
       "</script>"
      ],
      "text/plain": [
       "alt.Chart(...)"
      ]
     },
     "execution_count": 10,
     "metadata": {},
     "output_type": "execute_result"
    }
   ],
   "source": [
    "alt.Chart(\n",
    "    data[~data[\"valid_round_two\"]].groupby(\"GroupPol\")[\"NbVoix\"].sum().reset_index()\n",
    ").mark_arc().encode(\n",
    "    theta=alt.Theta(\"NbVoix:Q\"),\n",
    "    color=alt.Color(\"GroupPol:N\").scale(\n",
    "        domain=list(group_to_color.keys()), range=list(group_to_color.values())\n",
    "    ),\n",
    ").properties(title=\"Réservoirs de voix par \\\"ensemble politique\\\"\")"
   ]
  },
  {
   "cell_type": "markdown",
   "metadata": {},
   "source": [
    "Afin de pouvoir effectuer des projections en sièges, il est nécessaire de modéliser le comportement des électeurs des différents partis politiques, en particulier de ceux dont le parti n'est pas représenté au 2nd tour (non qualifié ou désistement du candidat)"
   ]
  },
  {
   "cell_type": "markdown",
   "metadata": {},
   "source": [
    "### Estimation des probabilités de report"
   ]
  },
  {
   "cell_type": "markdown",
   "metadata": {},
   "source": [
    "Les hypothèses choisies sont les suivantes : \n",
    "- Un électeur ayant voté au 1er tour pour un parti d'un bord politique votera pour le même bord politique au 2nd tour si son bord politique est représenté (ex.: un électeur ayant voté LFI Dissident au 1er tour votera UG au 2nd s'il s'agit du seul candidat de gauche)\n",
    "- Si le bord politique de l'électeur n'est pas représenté au 2nd tour, celui-ci se reportera vers d'autres partis ou s'abstiendra. Plus le bord politique du parti représenté est proche de celui de l'électeur au 1er tour, plus la probabilité que l'électeur se reporte vers ce parti sera élevée.\n",
    "- Un électeur qui s'est abstenu au 1er tour s'abstiendra au 2nd tour\n",
    "- Les probabilités de report sont symétriques (parti A vers B = parti B vers A)\n",
    "\n",
    "Ces hypothèses ont notamment pour conséquence une abstention strictement supérieure à celle du 1er tour"
   ]
  },
  {
   "cell_type": "markdown",
   "metadata": {},
   "source": [
    "En conséquence, on considère dans un premier temps une matrice de probabilités de report qui dépend de 9 paramètres : \n",
    "- $\\alpha_1$ : La probabilité de passer de `NFP+` à `ENS+` ou de `ENS+` à `LR+` \n",
    "- $\\alpha_2$ : La probabilité de passer de `RN+` à `LR+`\n",
    "- $\\alpha_3$ : La probabilité de passer de `NFP+` à `RN+` (ou de `RN+` à `NFP+`) ou de `ENS+` à `RN+`\n",
    "- $\\alpha_4$ : La probabilité de passer de `NFP+` à `LR+`\n",
    "- $\\alpha_5, \\alpha_6, \\alpha_7, \\alpha_8$ les taux de report de `DIV` vers les autres partis\n",
    "- $\\alpha_9$ un taux d'abstention minimum"
   ]
  },
  {
   "cell_type": "markdown",
   "metadata": {},
   "source": [
    "<img src=\"../img/matrice_reports.png\" alt=\"Matrice de reports\" width=\"400\"/>"
   ]
  },
  {
   "cell_type": "markdown",
   "metadata": {},
   "source": [
    "Cette matrice ne représente pas directement une matrice de probabilités, car la matrice de probabilités dépend de la configuration (voir l'exemple ci-dessous)"
   ]
  },
  {
   "cell_type": "markdown",
   "metadata": {},
   "source": [
    "Pour rappel les bords politiques sont déterminés comme suit :\n",
    "- `RN+` = `UXD` | `RN` | `DSV`\n",
    "- `NFP+` = `UG` | `COM` | `ECO` | `PS`\n",
    "- `LR+` = `LR` | `DVD`\n",
    "- `ENS+` = `ENS` | `HOR`"
   ]
  },
  {
   "cell_type": "markdown",
   "metadata": {},
   "source": [
    "#### Exemple : La 1ère circonscription de l'Ain\n"
   ]
  },
  {
   "cell_type": "code",
   "execution_count": 11,
   "metadata": {},
   "outputs": [
    {
     "data": {
      "text/html": [
       "<div>\n",
       "<style scoped>\n",
       "    .dataframe tbody tr th:only-of-type {\n",
       "        vertical-align: middle;\n",
       "    }\n",
       "\n",
       "    .dataframe tbody tr th {\n",
       "        vertical-align: top;\n",
       "    }\n",
       "\n",
       "    .dataframe thead th {\n",
       "        text-align: right;\n",
       "    }\n",
       "</style>\n",
       "<table border=\"1\" class=\"dataframe\">\n",
       "  <thead>\n",
       "    <tr style=\"text-align: right;\">\n",
       "      <th></th>\n",
       "      <th>Unnamed: 0</th>\n",
       "      <th>NomPsn</th>\n",
       "      <th>PrenomPsn</th>\n",
       "      <th>Departement</th>\n",
       "      <th>CodCirElec</th>\n",
       "      <th>LibCirElec</th>\n",
       "      <th>NbSap</th>\n",
       "      <th>NbSiePourvus</th>\n",
       "      <th>Inscrits</th>\n",
       "      <th>Abstentions</th>\n",
       "      <th>...</th>\n",
       "      <th>NumPanneauCand</th>\n",
       "      <th>CivilitePsn</th>\n",
       "      <th>CodNuaCand</th>\n",
       "      <th>LibNuaCand</th>\n",
       "      <th>NbVoix</th>\n",
       "      <th>RapportExprimes</th>\n",
       "      <th>RapportInscrits</th>\n",
       "      <th>Elu</th>\n",
       "      <th>GroupPol</th>\n",
       "      <th>valid_round_two</th>\n",
       "    </tr>\n",
       "  </thead>\n",
       "  <tbody>\n",
       "    <tr>\n",
       "      <th>0</th>\n",
       "      <td>0</td>\n",
       "      <td>LAHY</td>\n",
       "      <td>Éric</td>\n",
       "      <td>01</td>\n",
       "      <td>0101</td>\n",
       "      <td>1ère circonscription</td>\n",
       "      <td>1</td>\n",
       "      <td>0</td>\n",
       "      <td>86843</td>\n",
       "      <td>25013</td>\n",
       "      <td>...</td>\n",
       "      <td>1</td>\n",
       "      <td>M.</td>\n",
       "      <td>EXG</td>\n",
       "      <td>Extrême gauche</td>\n",
       "      <td>14607</td>\n",
       "      <td>0.69</td>\n",
       "      <td>0.48</td>\n",
       "      <td>NON</td>\n",
       "      <td>NFP+</td>\n",
       "      <td>False</td>\n",
       "    </tr>\n",
       "    <tr>\n",
       "      <th>1</th>\n",
       "      <td>1</td>\n",
       "      <td>MAÎTRE</td>\n",
       "      <td>Christophe</td>\n",
       "      <td>01</td>\n",
       "      <td>0101</td>\n",
       "      <td>1ère circonscription</td>\n",
       "      <td>1</td>\n",
       "      <td>0</td>\n",
       "      <td>86843</td>\n",
       "      <td>25013</td>\n",
       "      <td>...</td>\n",
       "      <td>2</td>\n",
       "      <td>M.</td>\n",
       "      <td>RN</td>\n",
       "      <td>Rassemblement National</td>\n",
       "      <td>23819</td>\n",
       "      <td>39.37</td>\n",
       "      <td>27.43</td>\n",
       "      <td>QUALIF T2</td>\n",
       "      <td>RN+</td>\n",
       "      <td>True</td>\n",
       "    </tr>\n",
       "    <tr>\n",
       "      <th>2</th>\n",
       "      <td>2</td>\n",
       "      <td>BRETON</td>\n",
       "      <td>Xavier</td>\n",
       "      <td>01</td>\n",
       "      <td>0101</td>\n",
       "      <td>1ère circonscription</td>\n",
       "      <td>1</td>\n",
       "      <td>0</td>\n",
       "      <td>86843</td>\n",
       "      <td>25013</td>\n",
       "      <td>...</td>\n",
       "      <td>3</td>\n",
       "      <td>M.</td>\n",
       "      <td>LR</td>\n",
       "      <td>Les Républicains</td>\n",
       "      <td>14495</td>\n",
       "      <td>23.96</td>\n",
       "      <td>16.69</td>\n",
       "      <td>QUALIF T2</td>\n",
       "      <td>LR+</td>\n",
       "      <td>True</td>\n",
       "    </tr>\n",
       "    <tr>\n",
       "      <th>4</th>\n",
       "      <td>4</td>\n",
       "      <td>VINCENT</td>\n",
       "      <td>Cyril</td>\n",
       "      <td>01</td>\n",
       "      <td>0101</td>\n",
       "      <td>1ère circonscription</td>\n",
       "      <td>1</td>\n",
       "      <td>0</td>\n",
       "      <td>86843</td>\n",
       "      <td>25013</td>\n",
       "      <td>...</td>\n",
       "      <td>5</td>\n",
       "      <td>M.</td>\n",
       "      <td>DSV</td>\n",
       "      <td>Droite souverainiste</td>\n",
       "      <td>511</td>\n",
       "      <td>0.33</td>\n",
       "      <td>0.23</td>\n",
       "      <td>NON</td>\n",
       "      <td>RN+</td>\n",
       "      <td>False</td>\n",
       "    </tr>\n",
       "    <tr>\n",
       "      <th>6</th>\n",
       "      <td>6</td>\n",
       "      <td>GUILLERMIN</td>\n",
       "      <td>Vincent</td>\n",
       "      <td>01</td>\n",
       "      <td>0101</td>\n",
       "      <td>1ère circonscription</td>\n",
       "      <td>1</td>\n",
       "      <td>0</td>\n",
       "      <td>86843</td>\n",
       "      <td>25013</td>\n",
       "      <td>...</td>\n",
       "      <td>7</td>\n",
       "      <td>M.</td>\n",
       "      <td>ENS</td>\n",
       "      <td>Ensemble ! (Majorité présidentielle)</td>\n",
       "      <td>7063</td>\n",
       "      <td>11.68</td>\n",
       "      <td>8.13</td>\n",
       "      <td>NON</td>\n",
       "      <td>ENS+</td>\n",
       "      <td>False</td>\n",
       "    </tr>\n",
       "  </tbody>\n",
       "</table>\n",
       "<p>5 rows × 32 columns</p>\n",
       "</div>"
      ],
      "text/plain": [
       "   Unnamed: 0      NomPsn   PrenomPsn Departement CodCirElec  \\\n",
       "0           0        LAHY        Éric          01       0101   \n",
       "1           1      MAÎTRE  Christophe          01       0101   \n",
       "2           2      BRETON      Xavier          01       0101   \n",
       "4           4     VINCENT       Cyril          01       0101   \n",
       "6           6  GUILLERMIN     Vincent          01       0101   \n",
       "\n",
       "             LibCirElec  NbSap  NbSiePourvus  Inscrits  Abstentions  ...  \\\n",
       "0  1ère circonscription      1             0     86843        25013  ...   \n",
       "1  1ère circonscription      1             0     86843        25013  ...   \n",
       "2  1ère circonscription      1             0     86843        25013  ...   \n",
       "4  1ère circonscription      1             0     86843        25013  ...   \n",
       "6  1ère circonscription      1             0     86843        25013  ...   \n",
       "\n",
       "   NumPanneauCand  CivilitePsn  CodNuaCand  \\\n",
       "0               1           M.         EXG   \n",
       "1               2           M.          RN   \n",
       "2               3           M.          LR   \n",
       "4               5           M.         DSV   \n",
       "6               7           M.         ENS   \n",
       "\n",
       "                             LibNuaCand  NbVoix  RapportExprimes  \\\n",
       "0                        Extrême gauche   14607             0.69   \n",
       "1                Rassemblement National   23819            39.37   \n",
       "2                      Les Républicains   14495            23.96   \n",
       "4                  Droite souverainiste     511             0.33   \n",
       "6  Ensemble ! (Majorité présidentielle)    7063            11.68   \n",
       "\n",
       "   RapportInscrits        Elu  GroupPol  valid_round_two  \n",
       "0             0.48        NON      NFP+            False  \n",
       "1            27.43  QUALIF T2       RN+             True  \n",
       "2            16.69  QUALIF T2       LR+             True  \n",
       "4             0.23        NON       RN+            False  \n",
       "6             8.13        NON      ENS+            False  \n",
       "\n",
       "[5 rows x 32 columns]"
      ]
     },
     "execution_count": 11,
     "metadata": {},
     "output_type": "execute_result"
    }
   ],
   "source": [
    "data[data[\"CodCirElec\"] == \"0101\"]"
   ]
  },
  {
   "cell_type": "markdown",
   "metadata": {},
   "source": [
    "La matrice de probabilités de report est la suivante : \n",
    "|   | DIV  | ENS+  | LR+  | NFP+  | RN+ | ABS |\n",
    "|---|---|---|---|---|---| ---|\n",
    "| DIV  | 0  | 0|  $\\frac{\\alpha_5}{\\alpha_5+\\alpha_7+\\alpha_8}$  | 0  | $\\frac{\\alpha_7}{\\alpha_5+\\alpha_7+\\alpha_8}$ | $\\frac{\\alpha_8}{\\alpha_5+\\alpha_7+\\alpha_8}$ |\n",
    "| ENS+ |  0 |  0 | $\\frac{\\alpha_1}{\\alpha_1+\\alpha_3+\\alpha_8}$  | 0  | $\\frac{\\alpha_3}{\\alpha_5+\\alpha_7+\\alpha_8}$ | $\\frac{\\alpha_8}{\\alpha_5+\\alpha_7+\\alpha_8}$ |\n",
    "| LR+ | 0  |  0 |  1 |  0 | 0| 0|\n",
    "| NFP+ | 0  | 0  | $\\frac{\\alpha_2}{\\alpha_2+\\alpha_3+\\alpha_8}$  | 0  |$\\frac{\\alpha_3}{\\alpha_2+\\alpha_3+\\alpha_8}$|$\\frac{\\alpha_8}{\\alpha_2+\\alpha_3+\\alpha_8}$ | \n",
    "| RN+ | 0  | 0  | 0  | 0  |1 | 0| \n",
    "| ABS | 0  | 0  | 0 | 0 | 0 | 1 |\n"
   ]
  },
  {
   "cell_type": "markdown",
   "metadata": {},
   "source": [
    "Ainsi les résultats pourraient être les suivants"
   ]
  },
  {
   "cell_type": "markdown",
   "metadata": {},
   "source": [
    "|   | L  | M  | R  | FR  | Abs | Total (1er tour) |\n",
    "|---|---|---|---|---|---| ---|\n",
    "| L  | 0  | 0|  4382  | 730  | 9995 | 14607 |\n",
    "| M |  0 |  0 | 4238  | 353  | 2472 | 7063 |\n",
    "| R | 0  |  0 |  14495 |  0 | 0| 14495|\n",
    "| FR | 0  | 0  | 0  | 23819  |0 |23819 | \n",
    "| Abs | 0  | 0  | 0  | 0  |25013 | 25013| \n",
    "| Total (2e tour) | 0  | 0  | 23115  (48.1%)| 24902 (51.9%) | 37480 (43%)| 86843|\n"
   ]
  },
  {
   "cell_type": "markdown",
   "metadata": {},
   "source": [
    "### Constitution des matrices de calcul"
   ]
  },
  {
   "cell_type": "markdown",
   "metadata": {},
   "source": [
    "Les matrices utilisées sont les suivantes : \n",
    "- $M_{RET}$ la matrice $(n_{circos}, n_{ensembles})=(501,5)$ avec les scores du 1er tour des candidats présents au 2nd tour\n",
    "- $M_{DISQ}$ la matrice $(n_{circos}, n_{ensembles})=(501,5)$ avec les scores du 1er tour des candidats non présents au 2nd tour\n",
    "- $T$ est la matrice de reports $(n_{ensembles}+1, n_{ensembles}+1) = (6,6)$ qui inclut l'abstention.\n"
   ]
  },
  {
   "cell_type": "code",
   "execution_count": 12,
   "metadata": {},
   "outputs": [],
   "source": [
    "p1, p2, p3, p4 = 0.6, 0.3, 0.1, 0.3\n",
    "p5, p6, p7, p8 = 0.3, 0.3, 0.3, 0.3\n",
    "p_abs = 0.3\n",
    "transfer_matrix = np.array(\n",
    "    [\n",
    "        [1, p5, p6, p7, p8, p_abs],\n",
    "        [p5, 1, p1, p1, p3, p_abs],\n",
    "        [p6, p1, 1, p2, p4, p_abs],\n",
    "        [p7, p1, p2, 1, p3, p_abs],\n",
    "        [p8, p3, p4, p3, 1, p_abs],\n",
    "        [0, 0, 0, 0, 0, 1],\n",
    "\n",
    "    ]\n",
    ")"
   ]
  },
  {
   "cell_type": "code",
   "execution_count": 13,
   "metadata": {},
   "outputs": [],
   "source": [
    "abstentions = (\n",
    "    data[~data[\"CodCirElec\"].isin(circos_out)]\n",
    "    .drop_duplicates([\"CodCirElec\", \"Abstentions\"])[\"Abstentions\"]\n",
    "    .values\n",
    ")"
   ]
  },
  {
   "cell_type": "code",
   "execution_count": 14,
   "metadata": {},
   "outputs": [
    {
     "name": "stdout",
     "output_type": "stream",
     "text": [
      "           NbVoix                                    \n",
      "GroupPol      DIV     ENS+      LR+     NFP+      RN+\n",
      "CodCirElec                                           \n",
      "0101          0.0      0.0  14495.0      0.0  23819.0\n",
      "0102          0.0  17414.0      0.0      0.0  28189.0\n",
      "0103          0.0  17420.0      0.0      0.0  17252.0\n",
      "0104          0.0  14367.0      0.0      0.0  30221.0\n",
      "0105          0.0      0.0      0.0  12542.0  20161.0\n"
     ]
    }
   ],
   "source": [
    "second_round_pivoted = (\n",
    "    data[(data[\"valid_round_two\"]) & (~data[\"CodCirElec\"].isin(circos_out))]\n",
    "    .pivot(columns=[\"GroupPol\"], index=\"CodCirElec\", values=[\"NbVoix\"])\n",
    "    .fillna(0)\n",
    ")\n",
    "print(second_round_pivoted.head())\n",
    "second_round_matrix = second_round_pivoted.values"
   ]
  },
  {
   "cell_type": "code",
   "execution_count": 15,
   "metadata": {},
   "outputs": [],
   "source": [
    "second_round_matrix = np.hstack([second_round_matrix, abstentions[:, None]])"
   ]
  },
  {
   "cell_type": "code",
   "execution_count": 16,
   "metadata": {},
   "outputs": [],
   "source": [
    "index_to_political_group = {i: col[1] for i, col in enumerate(second_round_pivoted.columns)}"
   ]
  },
  {
   "cell_type": "markdown",
   "metadata": {},
   "source": [
    "#### Constitution de la matrice des réservoirs de vote"
   ]
  },
  {
   "cell_type": "code",
   "execution_count": 17,
   "metadata": {},
   "outputs": [],
   "source": [
    "remaining_votes = (\n",
    "    data[(~data[\"valid_round_two\"]) & (~data[\"CodCirElec\"].isin(circos_out))]\n",
    "    .pivot(columns=[\"GroupPol\"], index=\"CodCirElec\", values=[\"NbVoix\"])\n",
    "    .fillna(0)\n",
    ")"
   ]
  },
  {
   "cell_type": "code",
   "execution_count": 18,
   "metadata": {},
   "outputs": [],
   "source": [
    "remaining_votes_matrix = remaining_votes.values\n",
    "remaining_votes_matrix = np.hstack([remaining_votes_matrix, np.zeros(len(second_round_matrix))[:, None]])"
   ]
  },
  {
   "cell_type": "code",
   "execution_count": 19,
   "metadata": {},
   "outputs": [
    {
     "data": {
      "text/plain": [
       "(501, 6)"
      ]
     },
     "execution_count": 19,
     "metadata": {},
     "output_type": "execute_result"
    }
   ],
   "source": [
    "second_round_mask = (second_round_matrix > 0).astype(int)\n",
    "second_round_mask.shape"
   ]
  },
  {
   "cell_type": "markdown",
   "metadata": {},
   "source": [
    "#### Exemple du calcul détaillé pour la première circonscription"
   ]
  },
  {
   "cell_type": "markdown",
   "metadata": {},
   "source": [
    "Matrice de report normalisée"
   ]
  },
  {
   "cell_type": "code",
   "execution_count": 20,
   "metadata": {},
   "outputs": [
    {
     "name": "stderr",
     "output_type": "stream",
     "text": [
      "/tmp/ipykernel_346074/619680807.py:6: RuntimeWarning: invalid value encountered in divide\n",
      "  normalized_parameters = np.nan_to_num(parameters_for_circo / parameters_for_circo.sum(-1)[:, None], 0)\n"
     ]
    }
   ],
   "source": [
    "parameters_for_circo = (\n",
    "    (1 - np.tile(second_round_mask[0], (6, 1)).T)\n",
    "    * transfer_matrix\n",
    "    * np.tile(second_round_mask[0], (6, 1))\n",
    ")\n",
    "normalized_parameters = np.nan_to_num(parameters_for_circo / parameters_for_circo.sum(-1)[:, None], 0)"
   ]
  },
  {
   "cell_type": "markdown",
   "metadata": {},
   "source": [
    "Echantillonnage suivant une loi multinomiale"
   ]
  },
  {
   "cell_type": "code",
   "execution_count": 21,
   "metadata": {},
   "outputs": [
    {
     "data": {
      "text/plain": [
       "array([[   0.,    0.,    0.,    0.,    0.,    0.],\n",
       "       [   0.,    0., 4229.,    0.,  745., 2089.],\n",
       "       [   0.,    0.,    0.,    0.,    0.,    0.],\n",
       "       [   0.,    0., 6245.,    0., 2126., 6236.],\n",
       "       [   0.,    0.,    0.,    0.,    0.,  511.],\n",
       "       [   0.,    0.,    0.,    0.,    0.,    0.]])"
      ]
     },
     "execution_count": 21,
     "metadata": {},
     "output_type": "execute_result"
    }
   ],
   "source": [
    "samples = np.zeros((6,6))\n",
    "for i in range(6):\n",
    "    samples[i] = (np.random.multinomial(n=remaining_votes_matrix[0,i], pvals=normalized_parameters[i]))\n",
    "samples"
   ]
  },
  {
   "cell_type": "markdown",
   "metadata": {},
   "source": [
    "Résultats (la dernière colonne représente l'abstention)"
   ]
  },
  {
   "cell_type": "code",
   "execution_count": 22,
   "metadata": {},
   "outputs": [
    {
     "data": {
      "text/plain": [
       "array([    0.,     0., 10474.,     0.,  2871.,  8836.])"
      ]
     },
     "execution_count": 22,
     "metadata": {},
     "output_type": "execute_result"
    }
   ],
   "source": [
    "samples.sum(0)"
   ]
  },
  {
   "cell_type": "markdown",
   "metadata": {},
   "source": [
    "Auxquels on ajoute les voix des candidats élus au 1er tour"
   ]
  },
  {
   "cell_type": "code",
   "execution_count": 23,
   "metadata": {},
   "outputs": [
    {
     "data": {
      "text/plain": [
       "array([    0.,     0., 24969.,     0., 26690., 33849.])"
      ]
     },
     "execution_count": 23,
     "metadata": {},
     "output_type": "execute_result"
    }
   ],
   "source": [
    "samples.sum(0) + second_round_matrix[0]"
   ]
  },
  {
   "cell_type": "code",
   "execution_count": 24,
   "metadata": {},
   "outputs": [],
   "source": [
    "from scipy.stats import truncnorm\n",
    "\n",
    "\n",
    "def sample_transfer_matrix(s=0.3, size=1):\n",
    "    params = [0.6, 0.3, 0.1, 0.3, 0.3, 0.3, 0.3, 0.3, 0.3]\n",
    "    sampled_params = [\n",
    "        truncnorm.rvs(a=-param / s, b=(1 - param) / s, loc=param, scale=s, size=size)\n",
    "        for param in params\n",
    "    ]\n",
    "    return np.array(\n",
    "        [\n",
    "            [\n",
    "                np.ones(size),\n",
    "                sampled_params[4],\n",
    "                sampled_params[5],\n",
    "                sampled_params[6],\n",
    "                sampled_params[7],\n",
    "                sampled_params[8],\n",
    "            ],\n",
    "            [\n",
    "                sampled_params[4],\n",
    "                np.ones(size),\n",
    "                sampled_params[0],\n",
    "                sampled_params[0],\n",
    "                sampled_params[2],\n",
    "                sampled_params[8],\n",
    "            ],\n",
    "            [\n",
    "                sampled_params[5],\n",
    "                sampled_params[0],\n",
    "                np.ones(size),\n",
    "                sampled_params[1],\n",
    "                sampled_params[3],\n",
    "                sampled_params[8],\n",
    "            ],\n",
    "            [\n",
    "                sampled_params[6],\n",
    "                sampled_params[0],\n",
    "                sampled_params[1],\n",
    "                np.ones(size),\n",
    "                sampled_params[2],\n",
    "                sampled_params[8],\n",
    "            ],\n",
    "            [\n",
    "                sampled_params[7],\n",
    "                sampled_params[2],\n",
    "                sampled_params[3],\n",
    "                sampled_params[2],\n",
    "                np.ones(size),\n",
    "                sampled_params[8],\n",
    "            ],\n",
    "            [\n",
    "                np.zeros(size),\n",
    "                np.zeros(size),\n",
    "                np.zeros(size),\n",
    "                np.zeros(size),\n",
    "                np.zeros(size),\n",
    "                np.ones(size),\n",
    "            ],\n",
    "        ]\n",
    "    )"
   ]
  },
  {
   "cell_type": "code",
   "execution_count": 25,
   "metadata": {},
   "outputs": [],
   "source": [
    "def sample_circo(i, n_simus=1, precomputed_transition_matrix=None):\n",
    "    if precomputed_transition_matrix is None:\n",
    "        precomputed_transition_matrix = sample_transfer_matrix(size=n_simus)\n",
    "    full_binary_mask = np.tile(second_round_mask[i], (6, 1))\n",
    "    parameters_for_circo = (\n",
    "        (1 - full_binary_mask.T)[:, :, None]\n",
    "        * precomputed_transition_matrix\n",
    "        * full_binary_mask[:, :, None]\n",
    "    )\n",
    "    normalized_parameters = np.nan_to_num(\n",
    "        parameters_for_circo / parameters_for_circo.sum(1)[:, None, :], 0\n",
    "    )\n",
    "\n",
    "    samples = np.zeros((6, 6, n_simus))\n",
    "\n",
    "    for party in range(6):\n",
    "        for i_simu in range(n_simus):\n",
    "            samples[party, :, i_simu] = np.random.multinomial(\n",
    "                n=remaining_votes_matrix[i, party],\n",
    "                pvals=normalized_parameters[party, :, i_simu],\n",
    "            )\n",
    "    return samples.sum(0) + second_round_matrix[i, :, None]"
   ]
  },
  {
   "cell_type": "code",
   "execution_count": 26,
   "metadata": {},
   "outputs": [],
   "source": [
    "def simulate_single_run():\n",
    "    results = np.zeros((len(second_round_matrix), 6))\n",
    "    for i in range(len(second_round_matrix)):\n",
    "        results[i] = sample_circo(i)[:, 0]\n",
    "\n",
    "    return results\n"
   ]
  },
  {
   "cell_type": "code",
   "execution_count": 27,
   "metadata": {},
   "outputs": [
    {
     "name": "stderr",
     "output_type": "stream",
     "text": [
      "/tmp/ipykernel_346074/2222412437.py:11: RuntimeWarning: invalid value encountered in divide\n",
      "  parameters_for_circo / parameters_for_circo.sum(1)[:, None, :], 0\n"
     ]
    }
   ],
   "source": [
    "simulation_results = simulate_single_run()"
   ]
  },
  {
   "cell_type": "markdown",
   "metadata": {},
   "source": [
    "Il suffit ensuite de compter le nombre de circonscriptions dans lequel chaque parti gagne (sauf l'abstention !)"
   ]
  },
  {
   "cell_type": "code",
   "execution_count": 28,
   "metadata": {},
   "outputs": [
    {
     "data": {
      "text/plain": [
       "{'DIV': 10, 'ENS+': 106, 'LR+': 32, 'NFP+': 155, 'RN+': 198}"
      ]
     },
     "execution_count": 28,
     "metadata": {},
     "output_type": "execute_result"
    }
   ],
   "source": [
    "labels, total_seats =  np.unique(simulation_results[:,:-1].argmax(1), return_counts=True)\n",
    "predictions = {\n",
    "    index_to_political_group[label]: int(seats)\n",
    "    for label, seats in zip(labels, total_seats)\n",
    "}\n",
    "predictions"
   ]
  },
  {
   "cell_type": "markdown",
   "metadata": {},
   "source": [
    "### Simulation Monte Carlo"
   ]
  },
  {
   "cell_type": "markdown",
   "metadata": {},
   "source": [
    "Il est en réalité très complexe de connaître la vraie valeur des paramètres, c'est pourquoi il est important de les considérer comme des variables aléatoires et d'échantillonner plusieurs scénarios."
   ]
  },
  {
   "cell_type": "markdown",
   "metadata": {},
   "source": [
    "Note : Il serait possible d'optimiser sous forme matricielle l'échantillonnage pour accélérer le processus..."
   ]
  },
  {
   "cell_type": "code",
   "execution_count": 29,
   "metadata": {},
   "outputs": [
    {
     "name": "stderr",
     "output_type": "stream",
     "text": [
      "/tmp/ipykernel_346074/2222412437.py:11: RuntimeWarning: invalid value encountered in divide\n",
      "  parameters_for_circo / parameters_for_circo.sum(1)[:, None, :], 0\n"
     ]
    },
    {
     "data": {
      "text/plain": [
       "array([[    0.,     0.],\n",
       "       [    0.,     0.],\n",
       "       [23549., 18274.],\n",
       "       [    0.,     0.],\n",
       "       [30404., 31465.],\n",
       "       [31555., 35769.]])"
      ]
     },
     "execution_count": 29,
     "metadata": {},
     "output_type": "execute_result"
    }
   ],
   "source": [
    "sample_circo(0, n_simus=2)"
   ]
  },
  {
   "cell_type": "code",
   "execution_count": 30,
   "metadata": {},
   "outputs": [],
   "source": [
    "def simulate_multiple_runs(n_simus=10):\n",
    "    results = np.zeros((len(second_round_matrix), 6, n_simus))\n",
    "    for i in range(len(second_round_matrix)):\n",
    "        results[i] = sample_circo(i, n_simus)\n",
    "    return results"
   ]
  },
  {
   "cell_type": "code",
   "execution_count": 31,
   "metadata": {},
   "outputs": [
    {
     "name": "stderr",
     "output_type": "stream",
     "text": [
      "/tmp/ipykernel_346074/2222412437.py:11: RuntimeWarning: invalid value encountered in divide\n",
      "  parameters_for_circo / parameters_for_circo.sum(1)[:, None, :], 0\n"
     ]
    }
   ],
   "source": [
    "n_simus = 1000\n",
    "results = simulate_multiple_runs(n_simus=n_simus)"
   ]
  },
  {
   "cell_type": "code",
   "execution_count": 32,
   "metadata": {},
   "outputs": [],
   "source": [
    "def results_to_frame(results):\n",
    "    \"\"\"\n",
    "    Conversion des résultats de numpy array en pandas dataframe\n",
    "    \"\"\"\n",
    "    results_df = pd.DataFrame()\n",
    "    for i in range(results.shape[-1]):\n",
    "        tmp_df = pd.DataFrame(\n",
    "            results[:, :, i],\n",
    "            columns=[index_to_political_group[i] for i in range(5)] + [\"ABS\"],\n",
    "            index=second_round_pivoted.index,\n",
    "        )\n",
    "        tmp_df[\"id_simu\"] = i\n",
    "        results_df = pd.concat([results_df, tmp_df])\n",
    "    return results_df"
   ]
  },
  {
   "cell_type": "code",
   "execution_count": 33,
   "metadata": {},
   "outputs": [],
   "source": [
    "df_results = results_to_frame(results).reset_index()"
   ]
  },
  {
   "cell_type": "code",
   "execution_count": null,
   "metadata": {},
   "outputs": [],
   "source": [
    "melted_results = df_results.melt(\n",
    "    [\"id_simu\", \"CodCirElec\"], var_name=\"Nuance politique\", value_name=\"NbVoix\"\n",
    ")"
   ]
  },
  {
   "cell_type": "markdown",
   "metadata": {},
   "source": [
    "### Analyse des projections"
   ]
  },
  {
   "cell_type": "markdown",
   "metadata": {},
   "source": [
    "Calcul des gagnants par circonscription"
   ]
  },
  {
   "cell_type": "code",
   "execution_count": null,
   "metadata": {},
   "outputs": [
    {
     "data": {
      "text/html": [
       "<div>\n",
       "<style scoped>\n",
       "    .dataframe tbody tr th:only-of-type {\n",
       "        vertical-align: middle;\n",
       "    }\n",
       "\n",
       "    .dataframe tbody tr th {\n",
       "        vertical-align: top;\n",
       "    }\n",
       "\n",
       "    .dataframe thead th {\n",
       "        text-align: right;\n",
       "    }\n",
       "</style>\n",
       "<table border=\"1\" class=\"dataframe\">\n",
       "  <thead>\n",
       "    <tr style=\"text-align: right;\">\n",
       "      <th></th>\n",
       "      <th>id_simu</th>\n",
       "      <th>CodCirElec</th>\n",
       "      <th>Nuance politique</th>\n",
       "      <th>NbVoix</th>\n",
       "    </tr>\n",
       "  </thead>\n",
       "  <tbody>\n",
       "    <tr>\n",
       "      <th>736706</th>\n",
       "      <td>470</td>\n",
       "      <td>5601</td>\n",
       "      <td>ENS+</td>\n",
       "      <td>61485.0</td>\n",
       "    </tr>\n",
       "    <tr>\n",
       "      <th>695624</th>\n",
       "      <td>388</td>\n",
       "      <td>5601</td>\n",
       "      <td>ENS+</td>\n",
       "      <td>61131.0</td>\n",
       "    </tr>\n",
       "    <tr>\n",
       "      <th>985703</th>\n",
       "      <td>967</td>\n",
       "      <td>5601</td>\n",
       "      <td>ENS+</td>\n",
       "      <td>61125.0</td>\n",
       "    </tr>\n",
       "    <tr>\n",
       "      <th>827387</th>\n",
       "      <td>651</td>\n",
       "      <td>5601</td>\n",
       "      <td>ENS+</td>\n",
       "      <td>60990.0</td>\n",
       "    </tr>\n",
       "    <tr>\n",
       "      <th>889010</th>\n",
       "      <td>774</td>\n",
       "      <td>5601</td>\n",
       "      <td>ENS+</td>\n",
       "      <td>60641.0</td>\n",
       "    </tr>\n",
       "  </tbody>\n",
       "</table>\n",
       "</div>"
      ],
      "text/plain": [
       "        id_simu CodCirElec Nuance politique   NbVoix\n",
       "736706      470       5601             ENS+  61485.0\n",
       "695624      388       5601             ENS+  61131.0\n",
       "985703      967       5601             ENS+  61125.0\n",
       "827387      651       5601             ENS+  60990.0\n",
       "889010      774       5601             ENS+  60641.0"
      ]
     },
     "execution_count": 102,
     "metadata": {},
     "output_type": "execute_result"
    }
   ],
   "source": [
    "winners = melted_results[melted_results[\"Nuance politique\"] != \"ABS\"].sort_values(\n",
    "    \"NbVoix\", ascending=False\n",
    ").drop_duplicates(\n",
    "    [\"CodCirElec\", \"id_simu\"]\n",
    ")\n",
    "winners.head()"
   ]
  },
  {
   "cell_type": "code",
   "execution_count": null,
   "metadata": {},
   "outputs": [
    {
     "data": {
      "text/html": [
       "<div>\n",
       "<style scoped>\n",
       "    .dataframe tbody tr th:only-of-type {\n",
       "        vertical-align: middle;\n",
       "    }\n",
       "\n",
       "    .dataframe tbody tr th {\n",
       "        vertical-align: top;\n",
       "    }\n",
       "\n",
       "    .dataframe thead th {\n",
       "        text-align: right;\n",
       "    }\n",
       "</style>\n",
       "<table border=\"1\" class=\"dataframe\">\n",
       "  <thead>\n",
       "    <tr style=\"text-align: right;\">\n",
       "      <th></th>\n",
       "      <th>id_simu</th>\n",
       "      <th>Nuance politique</th>\n",
       "      <th>count</th>\n",
       "    </tr>\n",
       "  </thead>\n",
       "  <tbody>\n",
       "    <tr>\n",
       "      <th>0</th>\n",
       "      <td>0</td>\n",
       "      <td>RN+</td>\n",
       "      <td>182</td>\n",
       "    </tr>\n",
       "    <tr>\n",
       "      <th>1</th>\n",
       "      <td>0</td>\n",
       "      <td>NFP+</td>\n",
       "      <td>158</td>\n",
       "    </tr>\n",
       "    <tr>\n",
       "      <th>2</th>\n",
       "      <td>0</td>\n",
       "      <td>ENS+</td>\n",
       "      <td>116</td>\n",
       "    </tr>\n",
       "    <tr>\n",
       "      <th>3</th>\n",
       "      <td>0</td>\n",
       "      <td>LR+</td>\n",
       "      <td>38</td>\n",
       "    </tr>\n",
       "    <tr>\n",
       "      <th>4</th>\n",
       "      <td>0</td>\n",
       "      <td>DIV</td>\n",
       "      <td>7</td>\n",
       "    </tr>\n",
       "  </tbody>\n",
       "</table>\n",
       "</div>"
      ],
      "text/plain": [
       "   id_simu Nuance politique  count\n",
       "0        0              RN+    182\n",
       "1        0             NFP+    158\n",
       "2        0             ENS+    116\n",
       "3        0              LR+     38\n",
       "4        0              DIV      7"
      ]
     },
     "execution_count": 103,
     "metadata": {},
     "output_type": "execute_result"
    }
   ],
   "source": [
    "seats = winners.groupby(\"id_simu\")[\"Nuance politique\"].value_counts().reset_index()\n",
    "seats.head()"
   ]
  },
  {
   "cell_type": "code",
   "execution_count": null,
   "metadata": {},
   "outputs": [
    {
     "data": {
      "text/html": [
       "<div>\n",
       "<style scoped>\n",
       "    .dataframe tbody tr th:only-of-type {\n",
       "        vertical-align: middle;\n",
       "    }\n",
       "\n",
       "    .dataframe tbody tr th {\n",
       "        vertical-align: top;\n",
       "    }\n",
       "\n",
       "    .dataframe thead th {\n",
       "        text-align: right;\n",
       "    }\n",
       "</style>\n",
       "<table border=\"1\" class=\"dataframe\">\n",
       "  <thead>\n",
       "    <tr style=\"text-align: right;\">\n",
       "      <th></th>\n",
       "      <th>mean</th>\n",
       "      <th>quantile_0.1</th>\n",
       "      <th>quantile_0.9</th>\n",
       "    </tr>\n",
       "    <tr>\n",
       "      <th>Nuance politique</th>\n",
       "      <th></th>\n",
       "      <th></th>\n",
       "      <th></th>\n",
       "    </tr>\n",
       "  </thead>\n",
       "  <tbody>\n",
       "    <tr>\n",
       "      <th>DIV</th>\n",
       "      <td>8.994</td>\n",
       "      <td>8.0</td>\n",
       "      <td>10.0</td>\n",
       "    </tr>\n",
       "    <tr>\n",
       "      <th>ENS+</th>\n",
       "      <td>117.147</td>\n",
       "      <td>111.0</td>\n",
       "      <td>123.0</td>\n",
       "    </tr>\n",
       "    <tr>\n",
       "      <th>LR+</th>\n",
       "      <td>35.364</td>\n",
       "      <td>32.0</td>\n",
       "      <td>39.0</td>\n",
       "    </tr>\n",
       "    <tr>\n",
       "      <th>NFP+</th>\n",
       "      <td>159.263</td>\n",
       "      <td>154.0</td>\n",
       "      <td>165.0</td>\n",
       "    </tr>\n",
       "    <tr>\n",
       "      <th>RN+</th>\n",
       "      <td>180.232</td>\n",
       "      <td>172.0</td>\n",
       "      <td>188.0</td>\n",
       "    </tr>\n",
       "  </tbody>\n",
       "</table>\n",
       "</div>"
      ],
      "text/plain": [
       "                     mean  quantile_0.1  quantile_0.9\n",
       "Nuance politique                                     \n",
       "DIV                 8.994           8.0          10.0\n",
       "ENS+              117.147         111.0         123.0\n",
       "LR+                35.364          32.0          39.0\n",
       "NFP+              159.263         154.0         165.0\n",
       "RN+               180.232         172.0         188.0"
      ]
     },
     "execution_count": 104,
     "metadata": {},
     "output_type": "execute_result"
    }
   ],
   "source": [
    "seats.groupby(\"Nuance politique\")[\"count\"].agg(\n",
    "    [\n",
    "        (\"mean\", \"mean\"),\n",
    "        (\"quantile_0.1\", lambda x: np.quantile(x, 0.1)),\n",
    "        (\"quantile_0.9\", lambda x: np.quantile(x, 0.9)),\n",
    "    ]\n",
    ")"
   ]
  },
  {
   "cell_type": "markdown",
   "metadata": {},
   "source": [
    "On constate que compte-tenu de l'incertitude élevée sur les paramètres, les intervalles de confiance sont particulièrement importants. On voit notamment que l'incertitude la plus importante porte sur le nombre de circonscriptions d'Ensemble"
   ]
  },
  {
   "cell_type": "code",
   "execution_count": null,
   "metadata": {},
   "outputs": [
    {
     "data": {
      "text/html": [
       "<div>\n",
       "<style scoped>\n",
       "    .dataframe tbody tr th:only-of-type {\n",
       "        vertical-align: middle;\n",
       "    }\n",
       "\n",
       "    .dataframe tbody tr th {\n",
       "        vertical-align: top;\n",
       "    }\n",
       "\n",
       "    .dataframe thead th {\n",
       "        text-align: right;\n",
       "    }\n",
       "</style>\n",
       "<table border=\"1\" class=\"dataframe\">\n",
       "  <thead>\n",
       "    <tr style=\"text-align: right;\">\n",
       "      <th></th>\n",
       "      <th>CodCirElec</th>\n",
       "      <th>Nuance politique</th>\n",
       "      <th>% victoires</th>\n",
       "    </tr>\n",
       "  </thead>\n",
       "  <tbody>\n",
       "    <tr>\n",
       "      <th>107</th>\n",
       "      <td>1702</td>\n",
       "      <td>NFP+</td>\n",
       "      <td>0.533</td>\n",
       "    </tr>\n",
       "    <tr>\n",
       "      <th>575</th>\n",
       "      <td>6911</td>\n",
       "      <td>ENS+</td>\n",
       "      <td>0.532</td>\n",
       "    </tr>\n",
       "    <tr>\n",
       "      <th>94</th>\n",
       "      <td>1406</td>\n",
       "      <td>ENS+</td>\n",
       "      <td>0.532</td>\n",
       "    </tr>\n",
       "    <tr>\n",
       "      <th>124</th>\n",
       "      <td>2101</td>\n",
       "      <td>ENS+</td>\n",
       "      <td>0.526</td>\n",
       "    </tr>\n",
       "    <tr>\n",
       "      <th>174</th>\n",
       "      <td>2704</td>\n",
       "      <td>NFP+</td>\n",
       "      <td>0.504</td>\n",
       "    </tr>\n",
       "  </tbody>\n",
       "</table>\n",
       "</div>"
      ],
      "text/plain": [
       "    CodCirElec Nuance politique  % victoires\n",
       "107       1702             NFP+        0.533\n",
       "575       6911             ENS+        0.532\n",
       "94        1406             ENS+        0.532\n",
       "124       2101             ENS+        0.526\n",
       "174       2704             NFP+        0.504"
      ]
     },
     "execution_count": 105,
     "metadata": {},
     "output_type": "execute_result"
    }
   ],
   "source": [
    "wins_by_circo = (\n",
    "    winners.groupby(\"CodCirElec\")[\"Nuance politique\"].value_counts() / n_simus\n",
    ")\n",
    "uncertainty_by_circo = (\n",
    "    wins_by_circo.reset_index()\n",
    "    .sort_values(\"count\", ascending=False)\n",
    "    .drop_duplicates(\"CodCirElec\")\n",
    "    .rename(columns={\"count\": \"% victoires\"})\n",
    ")\n",
    "uncertainty_by_circo.tail()"
   ]
  },
  {
   "cell_type": "code",
   "execution_count": null,
   "metadata": {},
   "outputs": [
    {
     "data": {
      "text/html": [
       "<div>\n",
       "<style scoped>\n",
       "    .dataframe tbody tr th:only-of-type {\n",
       "        vertical-align: middle;\n",
       "    }\n",
       "\n",
       "    .dataframe tbody tr th {\n",
       "        vertical-align: top;\n",
       "    }\n",
       "\n",
       "    .dataframe thead th {\n",
       "        text-align: right;\n",
       "    }\n",
       "</style>\n",
       "<table border=\"1\" class=\"dataframe\">\n",
       "  <thead>\n",
       "    <tr style=\"text-align: right;\">\n",
       "      <th></th>\n",
       "      <th>Unnamed: 0</th>\n",
       "      <th>NomPsn</th>\n",
       "      <th>PrenomPsn</th>\n",
       "      <th>Departement</th>\n",
       "      <th>CodCirElec</th>\n",
       "      <th>LibCirElec</th>\n",
       "      <th>NbSap</th>\n",
       "      <th>NbSiePourvus</th>\n",
       "      <th>Inscrits</th>\n",
       "      <th>Abstentions</th>\n",
       "      <th>...</th>\n",
       "      <th>NumPanneauCand</th>\n",
       "      <th>CivilitePsn</th>\n",
       "      <th>CodNuaCand</th>\n",
       "      <th>LibNuaCand</th>\n",
       "      <th>NbVoix</th>\n",
       "      <th>RapportExprimes</th>\n",
       "      <th>RapportInscrits</th>\n",
       "      <th>Elu</th>\n",
       "      <th>GroupPol</th>\n",
       "      <th>valid_round_two</th>\n",
       "    </tr>\n",
       "  </thead>\n",
       "  <tbody>\n",
       "    <tr>\n",
       "      <th>3113</th>\n",
       "      <td>3113</td>\n",
       "      <td>ETONNO</td>\n",
       "      <td>Lucie</td>\n",
       "      <td>85</td>\n",
       "      <td>8501</td>\n",
       "      <td>1ère circonscription</td>\n",
       "      <td>1</td>\n",
       "      <td>0</td>\n",
       "      <td>120711</td>\n",
       "      <td>36734</td>\n",
       "      <td>...</td>\n",
       "      <td>1</td>\n",
       "      <td>Mme</td>\n",
       "      <td>UG</td>\n",
       "      <td>Union de la gauche</td>\n",
       "      <td>19871</td>\n",
       "      <td>23.33</td>\n",
       "      <td>15.68</td>\n",
       "      <td>QUALIF T2</td>\n",
       "      <td>NFP+</td>\n",
       "      <td>False</td>\n",
       "    </tr>\n",
       "    <tr>\n",
       "      <th>3115</th>\n",
       "      <td>3115</td>\n",
       "      <td>BARIAL</td>\n",
       "      <td>Jean-Marc</td>\n",
       "      <td>85</td>\n",
       "      <td>8501</td>\n",
       "      <td>1ère circonscription</td>\n",
       "      <td>1</td>\n",
       "      <td>0</td>\n",
       "      <td>120711</td>\n",
       "      <td>36734</td>\n",
       "      <td>...</td>\n",
       "      <td>3</td>\n",
       "      <td>M.</td>\n",
       "      <td>DSV</td>\n",
       "      <td>Droite souverainiste</td>\n",
       "      <td>1433</td>\n",
       "      <td>1.77</td>\n",
       "      <td>1.19</td>\n",
       "      <td>NON</td>\n",
       "      <td>RN+</td>\n",
       "      <td>False</td>\n",
       "    </tr>\n",
       "    <tr>\n",
       "      <th>3116</th>\n",
       "      <td>3116</td>\n",
       "      <td>LATOMBE</td>\n",
       "      <td>Philippe</td>\n",
       "      <td>85</td>\n",
       "      <td>8501</td>\n",
       "      <td>1ère circonscription</td>\n",
       "      <td>1</td>\n",
       "      <td>0</td>\n",
       "      <td>120711</td>\n",
       "      <td>36734</td>\n",
       "      <td>...</td>\n",
       "      <td>4</td>\n",
       "      <td>M.</td>\n",
       "      <td>ENS</td>\n",
       "      <td>Ensemble ! (Majorité présidentielle)</td>\n",
       "      <td>23136</td>\n",
       "      <td>28.51</td>\n",
       "      <td>19.17</td>\n",
       "      <td>QUALIF T2</td>\n",
       "      <td>ENS+</td>\n",
       "      <td>True</td>\n",
       "    </tr>\n",
       "    <tr>\n",
       "      <th>3117</th>\n",
       "      <td>3117</td>\n",
       "      <td>CAILLAUD</td>\n",
       "      <td>Laurent</td>\n",
       "      <td>85</td>\n",
       "      <td>8501</td>\n",
       "      <td>1ère circonscription</td>\n",
       "      <td>1</td>\n",
       "      <td>0</td>\n",
       "      <td>120711</td>\n",
       "      <td>36734</td>\n",
       "      <td>...</td>\n",
       "      <td>5</td>\n",
       "      <td>M.</td>\n",
       "      <td>DVC</td>\n",
       "      <td>Divers centre</td>\n",
       "      <td>10606</td>\n",
       "      <td>13.07</td>\n",
       "      <td>8.79</td>\n",
       "      <td>NON</td>\n",
       "      <td>ENS+</td>\n",
       "      <td>False</td>\n",
       "    </tr>\n",
       "    <tr>\n",
       "      <th>3118</th>\n",
       "      <td>3118</td>\n",
       "      <td>PAULIN</td>\n",
       "      <td>Simon-Pierre</td>\n",
       "      <td>85</td>\n",
       "      <td>8501</td>\n",
       "      <td>1ère circonscription</td>\n",
       "      <td>1</td>\n",
       "      <td>0</td>\n",
       "      <td>120711</td>\n",
       "      <td>36734</td>\n",
       "      <td>...</td>\n",
       "      <td>6</td>\n",
       "      <td>M.</td>\n",
       "      <td>UXD</td>\n",
       "      <td>Union de l'extrême droite</td>\n",
       "      <td>26105</td>\n",
       "      <td>32.17</td>\n",
       "      <td>21.63</td>\n",
       "      <td>QUALIF T2</td>\n",
       "      <td>RN+</td>\n",
       "      <td>True</td>\n",
       "    </tr>\n",
       "  </tbody>\n",
       "</table>\n",
       "<p>5 rows × 32 columns</p>\n",
       "</div>"
      ],
      "text/plain": [
       "      Unnamed: 0    NomPsn     PrenomPsn Departement CodCirElec  \\\n",
       "3113        3113    ETONNO         Lucie          85       8501   \n",
       "3115        3115    BARIAL     Jean-Marc          85       8501   \n",
       "3116        3116   LATOMBE      Philippe          85       8501   \n",
       "3117        3117  CAILLAUD       Laurent          85       8501   \n",
       "3118        3118    PAULIN  Simon-Pierre          85       8501   \n",
       "\n",
       "                LibCirElec  NbSap  NbSiePourvus  Inscrits  Abstentions  ...  \\\n",
       "3113  1ère circonscription      1             0    120711        36734  ...   \n",
       "3115  1ère circonscription      1             0    120711        36734  ...   \n",
       "3116  1ère circonscription      1             0    120711        36734  ...   \n",
       "3117  1ère circonscription      1             0    120711        36734  ...   \n",
       "3118  1ère circonscription      1             0    120711        36734  ...   \n",
       "\n",
       "      NumPanneauCand  CivilitePsn  CodNuaCand  \\\n",
       "3113               1          Mme          UG   \n",
       "3115               3           M.         DSV   \n",
       "3116               4           M.         ENS   \n",
       "3117               5           M.         DVC   \n",
       "3118               6           M.         UXD   \n",
       "\n",
       "                                LibNuaCand  NbVoix  RapportExprimes  \\\n",
       "3113                    Union de la gauche   19871            23.33   \n",
       "3115                  Droite souverainiste    1433             1.77   \n",
       "3116  Ensemble ! (Majorité présidentielle)   23136            28.51   \n",
       "3117                         Divers centre   10606            13.07   \n",
       "3118             Union de l'extrême droite   26105            32.17   \n",
       "\n",
       "      RapportInscrits        Elu  GroupPol  valid_round_two  \n",
       "3113            15.68  QUALIF T2      NFP+            False  \n",
       "3115             1.19        NON       RN+            False  \n",
       "3116            19.17  QUALIF T2      ENS+             True  \n",
       "3117             8.79        NON      ENS+            False  \n",
       "3118            21.63  QUALIF T2       RN+             True  \n",
       "\n",
       "[5 rows x 32 columns]"
      ]
     },
     "execution_count": 106,
     "metadata": {},
     "output_type": "execute_result"
    }
   ],
   "source": [
    "data[data[\"CodCirElec\"] == \"8501\"]"
   ]
  },
  {
   "cell_type": "code",
   "execution_count": null,
   "metadata": {},
   "outputs": [
    {
     "data": {
      "text/html": [
       "<div>\n",
       "<style scoped>\n",
       "    .dataframe tbody tr th:only-of-type {\n",
       "        vertical-align: middle;\n",
       "    }\n",
       "\n",
       "    .dataframe tbody tr th {\n",
       "        vertical-align: top;\n",
       "    }\n",
       "\n",
       "    .dataframe thead th {\n",
       "        text-align: right;\n",
       "    }\n",
       "</style>\n",
       "<table border=\"1\" class=\"dataframe\">\n",
       "  <thead>\n",
       "    <tr style=\"text-align: right;\">\n",
       "      <th></th>\n",
       "      <th>id_simu</th>\n",
       "      <th>CodCirElec</th>\n",
       "      <th>Nuance politique</th>\n",
       "      <th>NbVoix</th>\n",
       "    </tr>\n",
       "  </thead>\n",
       "  <tbody>\n",
       "    <tr>\n",
       "      <th>406</th>\n",
       "      <td>0</td>\n",
       "      <td>8501</td>\n",
       "      <td>DIV</td>\n",
       "      <td>0.0</td>\n",
       "    </tr>\n",
       "    <tr>\n",
       "      <th>907</th>\n",
       "      <td>1</td>\n",
       "      <td>8501</td>\n",
       "      <td>DIV</td>\n",
       "      <td>0.0</td>\n",
       "    </tr>\n",
       "    <tr>\n",
       "      <th>1408</th>\n",
       "      <td>2</td>\n",
       "      <td>8501</td>\n",
       "      <td>DIV</td>\n",
       "      <td>0.0</td>\n",
       "    </tr>\n",
       "    <tr>\n",
       "      <th>1909</th>\n",
       "      <td>3</td>\n",
       "      <td>8501</td>\n",
       "      <td>DIV</td>\n",
       "      <td>0.0</td>\n",
       "    </tr>\n",
       "    <tr>\n",
       "      <th>2410</th>\n",
       "      <td>4</td>\n",
       "      <td>8501</td>\n",
       "      <td>DIV</td>\n",
       "      <td>0.0</td>\n",
       "    </tr>\n",
       "    <tr>\n",
       "      <th>...</th>\n",
       "      <td>...</td>\n",
       "      <td>...</td>\n",
       "      <td>...</td>\n",
       "      <td>...</td>\n",
       "    </tr>\n",
       "    <tr>\n",
       "      <th>3003901</th>\n",
       "      <td>995</td>\n",
       "      <td>8501</td>\n",
       "      <td>ABS</td>\n",
       "      <td>53940.0</td>\n",
       "    </tr>\n",
       "    <tr>\n",
       "      <th>3004402</th>\n",
       "      <td>996</td>\n",
       "      <td>8501</td>\n",
       "      <td>ABS</td>\n",
       "      <td>53113.0</td>\n",
       "    </tr>\n",
       "    <tr>\n",
       "      <th>3004903</th>\n",
       "      <td>997</td>\n",
       "      <td>8501</td>\n",
       "      <td>ABS</td>\n",
       "      <td>58305.0</td>\n",
       "    </tr>\n",
       "    <tr>\n",
       "      <th>3005404</th>\n",
       "      <td>998</td>\n",
       "      <td>8501</td>\n",
       "      <td>ABS</td>\n",
       "      <td>53104.0</td>\n",
       "    </tr>\n",
       "    <tr>\n",
       "      <th>3005905</th>\n",
       "      <td>999</td>\n",
       "      <td>8501</td>\n",
       "      <td>ABS</td>\n",
       "      <td>50635.0</td>\n",
       "    </tr>\n",
       "  </tbody>\n",
       "</table>\n",
       "<p>6000 rows × 4 columns</p>\n",
       "</div>"
      ],
      "text/plain": [
       "         id_simu CodCirElec Nuance politique   NbVoix\n",
       "406            0       8501              DIV      0.0\n",
       "907            1       8501              DIV      0.0\n",
       "1408           2       8501              DIV      0.0\n",
       "1909           3       8501              DIV      0.0\n",
       "2410           4       8501              DIV      0.0\n",
       "...          ...        ...              ...      ...\n",
       "3003901      995       8501              ABS  53940.0\n",
       "3004402      996       8501              ABS  53113.0\n",
       "3004903      997       8501              ABS  58305.0\n",
       "3005404      998       8501              ABS  53104.0\n",
       "3005905      999       8501              ABS  50635.0\n",
       "\n",
       "[6000 rows x 4 columns]"
      ]
     },
     "execution_count": 107,
     "metadata": {},
     "output_type": "execute_result"
    }
   ],
   "source": [
    "melted_results[melted_results[\"CodCirElec\"] == \"8501\"]"
   ]
  },
  {
   "cell_type": "code",
   "execution_count": null,
   "metadata": {},
   "outputs": [],
   "source": [
    "import altair as alt\n",
    "main_chart = alt.Chart(melted_results[melted_results[\"CodCirElec\"] == \"8501\"])\n",
    "\n",
    "main_chart.mark_boxplot().encode(\n",
    "    x=alt.X(\"Nuance politique:N\").title(\"Ensemble politique\"),\n",
    "    y=alt.Y(\"NbVoix:Q\").title(\"Nombre de voix estimé\"),\n",
    ").properties(title=\"Résultats des simulations sur la circonscription 8501\")"
   ]
  },
  {
   "cell_type": "markdown",
   "metadata": {},
   "source": [
    "Nous pouvons ensuite visualiser les circonscriptions les plus incertaines (après avoir effectué une renormalisation)"
   ]
  },
  {
   "cell_type": "code",
   "execution_count": null,
   "metadata": {},
   "outputs": [],
   "source": [
    "contours_circos[\"uncertainty\"] = contours_circos[\"CodCirElec\"].map(\n",
    "    (1- uncertainty_by_circo.set_index(\"CodCirElec\")[\"% victoires\"]) * 2\n",
    ")"
   ]
  },
  {
   "cell_type": "code",
   "execution_count": null,
   "metadata": {},
   "outputs": [],
   "source": [
    "import altair as alt\n",
    "\n",
    "selector = alt.selection_single(fields=[\"CodCirElec\"], on=\"click\")\n",
    "alt.Chart(contours_circos[~contours_circos[\"is_overseas\"]]).mark_geoshape().encode(\n",
    "    tooltip=[\"CodCirElec:N\", \"uncertainty:Q\"], color=\"uncertainty:Q\"\n",
    ").properties(\n",
    "    title=\"Visualisation de l'incertitude dans la simulation par circonscription\",\n",
    "    height=500\n",
    ")"
   ]
  },
  {
   "cell_type": "markdown",
   "metadata": {},
   "source": []
  },
  {
   "cell_type": "markdown",
   "metadata": {},
   "source": []
  },
  {
   "cell_type": "markdown",
   "metadata": {},
   "source": []
  }
 ],
 "metadata": {
  "kernelspec": {
   "display_name": "Python 3 (ipykernel)",
   "language": "python",
   "name": "python3"
  },
  "language_info": {
   "codemirror_mode": {
    "name": "ipython",
    "version": 3
   },
   "file_extension": ".py",
   "mimetype": "text/x-python",
   "name": "python",
   "nbconvert_exporter": "python",
   "pygments_lexer": "ipython3",
   "version": "3.10.12"
  }
 },
 "nbformat": 4,
 "nbformat_minor": 2
}
